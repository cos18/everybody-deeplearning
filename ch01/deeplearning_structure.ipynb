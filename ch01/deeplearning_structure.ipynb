{
 "cells": [
  {
   "cell_type": "code",
   "execution_count": 1,
   "metadata": {},
   "outputs": [
    {
     "name": "stdout",
     "output_type": "stream",
     "text": [
      "Train on 470 samples\n",
      "Epoch 1/5\n",
      "470/470 [==============================] - 1s 2ms/sample - loss: 0.1502 - accuracy: 0.8489\n",
      "Epoch 2/5\n",
      "470/470 [==============================] - 0s 65us/sample - loss: 0.1485 - accuracy: 0.8489\n",
      "Epoch 3/5\n",
      "470/470 [==============================] - 0s 55us/sample - loss: 0.1474 - accuracy: 0.8489\n",
      "Epoch 4/5\n",
      "470/470 [==============================] - 0s 60us/sample - loss: 0.1466 - accuracy: 0.8511\n",
      "Epoch 5/5\n",
      "470/470 [==============================] - 0s 61us/sample - loss: 0.1469 - accuracy: 0.8511\n"
     ]
    },
    {
     "data": {
      "text/plain": [
       "<tensorflow.python.keras.callbacks.History at 0x63f9ccd90>"
      ]
     },
     "execution_count": 1,
     "metadata": {},
     "output_type": "execute_result"
    }
   ],
   "source": [
    "# -*- coding: utf-8 -*-\n",
    "from tensorflow.keras.models import Sequential\n",
    "from tensorflow.keras.layers import Dense\n",
    "import numpy as np\n",
    "import tensorflow as tf\n",
    "\n",
    "# Data Input\n",
    "Data_set = np.loadtxt(\"../dataset/ThoraricSurgery.csv\", delimiter=\",\")\n",
    "info = Data_set[:,0:17]\n",
    "result = Data_set[:,17]\n",
    "\n",
    "# Set Model\n",
    "model = Sequential()\n",
    "model.add(Dense(30, input_dim=17, activation='relu'))\n",
    "model.add(Dense(1, activation='sigmoid'))\n",
    "\n",
    "# Execute Model\n",
    "# 의문점 : epochs, batch_size를 증가해도 정확도의 상승이 오지 않는 이유?\n",
    "model.compile(loss='mean_squared_error', optimizer='adam', metrics=['accuracy'])\n",
    "model.fit(info, result, epochs=5, batch_size=30)\n"
   ]
  },
  {
   "cell_type": "code",
   "execution_count": null,
   "metadata": {},
   "outputs": [],
   "source": []
  }
 ],
 "metadata": {
  "kernelspec": {
   "display_name": "Python 3",
   "language": "python",
   "name": "python3"
  },
  "language_info": {
   "codemirror_mode": {
    "name": "ipython",
    "version": 3
   },
   "file_extension": ".py",
   "mimetype": "text/x-python",
   "name": "python",
   "nbconvert_exporter": "python",
   "pygments_lexer": "ipython3",
   "version": "3.7.6"
  }
 },
 "nbformat": 4,
 "nbformat_minor": 2
}
